{
  "nbformat": 4,
  "nbformat_minor": 0,
  "metadata": {
    "colab": {
      "provenance": [],
      "mount_file_id": "1bU9mD7miimS_jEgvWbQamXK-VsAc27Dj",
      "authorship_tag": "ABX9TyPr99Ho80zgZxqW0b5dWQVa",
      "include_colab_link": true
    },
    "kernelspec": {
      "name": "python3",
      "display_name": "Python 3"
    },
    "language_info": {
      "name": "python"
    }
  },
  "cells": [
    {
      "cell_type": "markdown",
      "metadata": {
        "id": "view-in-github",
        "colab_type": "text"
      },
      "source": [
        "<a href=\"https://colab.research.google.com/github/PaulRosenthal/Coastal-Florida-Climate-Changes/blob/main/Weather_Data_to_CSV.ipynb\" target=\"_parent\"><img src=\"https://colab.research.google.com/assets/colab-badge.svg\" alt=\"Open In Colab\"/></a>"
      ]
    },
    {
      "cell_type": "code",
      "source": [],
      "metadata": {
        "id": "_0n4uLv_fr-a"
      },
      "execution_count": null,
      "outputs": []
    },
    {
      "cell_type": "markdown",
      "source": [
        "This notebook can be used to retrieve National Weather Service forecast information for a specified area. The forecast is then exported to a CSV file for use."
      ],
      "metadata": {
        "id": "Ujc3u6FI6usl"
      }
    },
    {
      "cell_type": "code",
      "source": [
        "import requests, json, csv\n",
        "from datetime import datetime\n",
        "\n",
        "api_url = 'https://api.weather.gov/'\n",
        "\n",
        "# The National Weather Service provides instructions for retrieving the gridpoint information\n",
        "# for a given area at https://www.weather.gov/documentation/services-web-api.\n",
        "api_endpoint = 'gridpoints/TAE/24,71/forecast'\n",
        "request_url = f'{api_url}{api_endpoint}'\n",
        "\n",
        "# Request the forecast and save it to the response variable.\n",
        "response = requests.get(request_url)\n",
        "\n",
        "# Process the response. If status is code is a value other than 200, it is not valid.\n",
        "if response.status_code == 200:\n",
        "  # Assign a JSON variable to the response.\n",
        "  data = response.json()\n",
        "\n",
        "  # Create a CSV file.\n",
        "  weather_data_file = open('weather_data.csv', 'w')\n",
        "  weather_data_file_writer = csv.writer(weather_data_file)\n",
        "\n",
        "  # Write the first row of the file containing the time and date the forecast was updated.\n",
        "  forecast_created_time = datetime.fromisoformat(data['properties']['updated'])\n",
        "  weather_data_file_writer.writerow(['Forecast Generated At: ', forecast_created_time, ' ', ' ', ' ', ' '])\n",
        "\n",
        "  # Write the header row for the CSV file.\n",
        "  weather_data_file_writer.writerow(['Time Period Number', 'Start Time', 'End Time', 'Day or Night', 'Days Out From Forecast Generation', 'Forecasted Temperature'])\n",
        "\n",
        "  # Extract the forecast details into a variable.\n",
        "  forecast = data['properties']['periods']\n",
        "\n",
        "  # Parse each time period within the forecast and write the information to the CSV file.\n",
        "  for time_period in forecast:\n",
        "    # Time of day determined from isDaytime flag included in the forecast.\n",
        "    day_or_night = \"Night\"\n",
        "    if time_period['isDaytime']:\n",
        "      day_or_night = \"Day\"\n",
        "    \n",
        "    # Write time period's forecast data to the CSV file.\n",
        "    time_period_start = datetime.fromisoformat(time_period['startTime'])\n",
        "    weather_data_file_writer.writerow([time_period['number'], time_period['startTime'], time_period['endTime'], day_or_night, time_period_start - forecast_created_time, time_period['temperature']])\n",
        "\n",
        "  # Close the CSV file.\n",
        "  weather_data_file.close()\n",
        "\n",
        "else:\n",
        "  # For troubleshooting, the failure message includes the status code and request URL.\n",
        "  print(f'The forecast could not be retrieved. The response status code received was: {response.status_code}')\n",
        "  print('The request URL was: ', request_url)"
      ],
      "metadata": {
        "id": "Ambm1BjHftH0"
      },
      "execution_count": null,
      "outputs": []
    },
    {
      "cell_type": "code",
      "source": [],
      "metadata": {
        "id": "YpXEKFoSfrGQ"
      },
      "execution_count": null,
      "outputs": []
    }
  ]
}